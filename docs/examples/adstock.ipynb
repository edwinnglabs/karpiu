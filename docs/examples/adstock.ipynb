{
 "cells": [
  {
   "cell_type": "markdown",
   "metadata": {},
   "source": [
    "## Modeling Adstock"
   ]
  },
  {
   "cell_type": "markdown",
   "metadata": {},
   "source": [
    "In this section, users will learn how to input a pre-defined adstock weights into the MMM fitting process."
   ]
  },
  {
   "cell_type": "code",
   "execution_count": 1,
   "metadata": {},
   "outputs": [
    {
     "name": "stdout",
     "output_type": "stream",
     "text": [
      "0.0.1\n"
     ]
    }
   ],
   "source": [
    "import pandas as pd\n",
    "import matplotlib.pyplot as plt\n",
    "import karpiu\n",
    "from karpiu.models import MMM\n",
    "from karpiu.utils import insert_events, extend_ts_features\n",
    "\n",
    "pd.set_option(\"display.float_format\", lambda x: \"%.3f\" % x)\n",
    "\n",
    "print(karpiu.__version__)"
   ]
  },
  {
   "cell_type": "code",
   "execution_count": 2,
   "metadata": {},
   "outputs": [],
   "source": [
    "%load_ext autoreload\n",
    "%autoreload 2"
   ]
  },
  {
   "cell_type": "markdown",
   "metadata": {},
   "source": [
    "### Data Input"
   ]
  },
  {
   "cell_type": "markdown",
   "metadata": {},
   "source": [
    "Recall in quickstart, a demo on training a dataset without adstock is shown. This time the demo will add an extra arguement `adstock_df` which is prepared by the user."
   ]
  },
  {
   "cell_type": "code",
   "execution_count": 3,
   "metadata": {},
   "outputs": [],
   "source": [
    "RAW_DATA_FILE = \"resource/full/df.csv\"\n",
    "SCALABILITY_FILE = \"resource/full/scalability_df.csv\"\n",
    "ADSTOCK_FILE = \"resource/full/adstock_df.csv\"\n",
    "paid_channels = [\"promo\", \"radio\", \"search\", \"social\", \"tv\"]"
   ]
  },
  {
   "cell_type": "markdown",
   "metadata": {},
   "source": [
    "This is the core spend and response(the sales) input data."
   ]
  },
  {
   "cell_type": "code",
   "execution_count": 4,
   "metadata": {},
   "outputs": [
    {
     "data": {
      "text/html": [
       "<div>\n",
       "<style scoped>\n",
       "    .dataframe tbody tr th:only-of-type {\n",
       "        vertical-align: middle;\n",
       "    }\n",
       "\n",
       "    .dataframe tbody tr th {\n",
       "        vertical-align: top;\n",
       "    }\n",
       "\n",
       "    .dataframe thead th {\n",
       "        text-align: right;\n",
       "    }\n",
       "</style>\n",
       "<table border=\"1\" class=\"dataframe\">\n",
       "  <thead>\n",
       "    <tr style=\"text-align: right;\">\n",
       "      <th></th>\n",
       "      <th>d_0</th>\n",
       "      <th>d_1</th>\n",
       "      <th>d_2</th>\n",
       "      <th>d_3</th>\n",
       "      <th>d_4</th>\n",
       "      <th>d_5</th>\n",
       "      <th>d_6</th>\n",
       "      <th>d_7</th>\n",
       "      <th>d_8</th>\n",
       "      <th>d_9</th>\n",
       "      <th>...</th>\n",
       "      <th>d_18</th>\n",
       "      <th>d_19</th>\n",
       "      <th>d_20</th>\n",
       "      <th>d_21</th>\n",
       "      <th>d_22</th>\n",
       "      <th>d_23</th>\n",
       "      <th>d_24</th>\n",
       "      <th>d_25</th>\n",
       "      <th>d_26</th>\n",
       "      <th>d_27</th>\n",
       "    </tr>\n",
       "    <tr>\n",
       "      <th>regressor</th>\n",
       "      <th></th>\n",
       "      <th></th>\n",
       "      <th></th>\n",
       "      <th></th>\n",
       "      <th></th>\n",
       "      <th></th>\n",
       "      <th></th>\n",
       "      <th></th>\n",
       "      <th></th>\n",
       "      <th></th>\n",
       "      <th></th>\n",
       "      <th></th>\n",
       "      <th></th>\n",
       "      <th></th>\n",
       "      <th></th>\n",
       "      <th></th>\n",
       "      <th></th>\n",
       "      <th></th>\n",
       "      <th></th>\n",
       "      <th></th>\n",
       "      <th></th>\n",
       "    </tr>\n",
       "  </thead>\n",
       "  <tbody>\n",
       "    <tr>\n",
       "      <th>promo</th>\n",
       "      <td>0.088</td>\n",
       "      <td>0.150</td>\n",
       "      <td>0.254</td>\n",
       "      <td>0.254</td>\n",
       "      <td>0.127</td>\n",
       "      <td>0.064</td>\n",
       "      <td>0.032</td>\n",
       "      <td>0.016</td>\n",
       "      <td>0.008</td>\n",
       "      <td>0.004</td>\n",
       "      <td>...</td>\n",
       "      <td>0.000</td>\n",
       "      <td>0.000</td>\n",
       "      <td>0.000</td>\n",
       "      <td>0.000</td>\n",
       "      <td>0.000</td>\n",
       "      <td>0.000</td>\n",
       "      <td>0.000</td>\n",
       "      <td>0.000</td>\n",
       "      <td>0.000</td>\n",
       "      <td>0.000</td>\n",
       "    </tr>\n",
       "    <tr>\n",
       "      <th>radio</th>\n",
       "      <td>0.003</td>\n",
       "      <td>0.005</td>\n",
       "      <td>0.010</td>\n",
       "      <td>0.017</td>\n",
       "      <td>0.031</td>\n",
       "      <td>0.056</td>\n",
       "      <td>0.100</td>\n",
       "      <td>0.180</td>\n",
       "      <td>0.180</td>\n",
       "      <td>0.126</td>\n",
       "      <td>...</td>\n",
       "      <td>0.005</td>\n",
       "      <td>0.004</td>\n",
       "      <td>0.002</td>\n",
       "      <td>0.002</td>\n",
       "      <td>0.001</td>\n",
       "      <td>0.001</td>\n",
       "      <td>0.001</td>\n",
       "      <td>0.000</td>\n",
       "      <td>0.000</td>\n",
       "      <td>0.000</td>\n",
       "    </tr>\n",
       "    <tr>\n",
       "      <th>search</th>\n",
       "      <td>0.129</td>\n",
       "      <td>0.226</td>\n",
       "      <td>0.226</td>\n",
       "      <td>0.147</td>\n",
       "      <td>0.095</td>\n",
       "      <td>0.062</td>\n",
       "      <td>0.040</td>\n",
       "      <td>0.026</td>\n",
       "      <td>0.017</td>\n",
       "      <td>0.011</td>\n",
       "      <td>...</td>\n",
       "      <td>0.000</td>\n",
       "      <td>0.000</td>\n",
       "      <td>0.000</td>\n",
       "      <td>0.000</td>\n",
       "      <td>0.000</td>\n",
       "      <td>0.000</td>\n",
       "      <td>0.000</td>\n",
       "      <td>0.000</td>\n",
       "      <td>0.000</td>\n",
       "      <td>0.000</td>\n",
       "    </tr>\n",
       "    <tr>\n",
       "      <th>social</th>\n",
       "      <td>0.033</td>\n",
       "      <td>0.050</td>\n",
       "      <td>0.075</td>\n",
       "      <td>0.112</td>\n",
       "      <td>0.168</td>\n",
       "      <td>0.168</td>\n",
       "      <td>0.118</td>\n",
       "      <td>0.083</td>\n",
       "      <td>0.058</td>\n",
       "      <td>0.040</td>\n",
       "      <td>...</td>\n",
       "      <td>0.002</td>\n",
       "      <td>0.001</td>\n",
       "      <td>0.001</td>\n",
       "      <td>0.001</td>\n",
       "      <td>0.000</td>\n",
       "      <td>0.000</td>\n",
       "      <td>0.000</td>\n",
       "      <td>0.000</td>\n",
       "      <td>0.000</td>\n",
       "      <td>0.000</td>\n",
       "    </tr>\n",
       "    <tr>\n",
       "      <th>tv</th>\n",
       "      <td>0.003</td>\n",
       "      <td>0.004</td>\n",
       "      <td>0.006</td>\n",
       "      <td>0.009</td>\n",
       "      <td>0.014</td>\n",
       "      <td>0.021</td>\n",
       "      <td>0.032</td>\n",
       "      <td>0.048</td>\n",
       "      <td>0.072</td>\n",
       "      <td>0.108</td>\n",
       "      <td>...</td>\n",
       "      <td>0.029</td>\n",
       "      <td>0.025</td>\n",
       "      <td>0.021</td>\n",
       "      <td>0.018</td>\n",
       "      <td>0.015</td>\n",
       "      <td>0.013</td>\n",
       "      <td>0.011</td>\n",
       "      <td>0.009</td>\n",
       "      <td>0.008</td>\n",
       "      <td>0.007</td>\n",
       "    </tr>\n",
       "  </tbody>\n",
       "</table>\n",
       "<p>5 rows × 28 columns</p>\n",
       "</div>"
      ],
      "text/plain": [
       "            d_0   d_1   d_2   d_3   d_4   d_5   d_6   d_7   d_8   d_9  ...  \\\n",
       "regressor                                                              ...   \n",
       "promo     0.088 0.150 0.254 0.254 0.127 0.064 0.032 0.016 0.008 0.004  ...   \n",
       "radio     0.003 0.005 0.010 0.017 0.031 0.056 0.100 0.180 0.180 0.126  ...   \n",
       "search    0.129 0.226 0.226 0.147 0.095 0.062 0.040 0.026 0.017 0.011  ...   \n",
       "social    0.033 0.050 0.075 0.112 0.168 0.168 0.118 0.083 0.058 0.040  ...   \n",
       "tv        0.003 0.004 0.006 0.009 0.014 0.021 0.032 0.048 0.072 0.108  ...   \n",
       "\n",
       "           d_18  d_19  d_20  d_21  d_22  d_23  d_24  d_25  d_26  d_27  \n",
       "regressor                                                              \n",
       "promo     0.000 0.000 0.000 0.000 0.000 0.000 0.000 0.000 0.000 0.000  \n",
       "radio     0.005 0.004 0.002 0.002 0.001 0.001 0.001 0.000 0.000 0.000  \n",
       "search    0.000 0.000 0.000 0.000 0.000 0.000 0.000 0.000 0.000 0.000  \n",
       "social    0.002 0.001 0.001 0.001 0.000 0.000 0.000 0.000 0.000 0.000  \n",
       "tv        0.029 0.025 0.021 0.018 0.015 0.013 0.011 0.009 0.008 0.007  \n",
       "\n",
       "[5 rows x 28 columns]"
      ]
     },
     "execution_count": 4,
     "metadata": {},
     "output_type": "execute_result"
    }
   ],
   "source": [
    "df = pd.read_csv(RAW_DATA_FILE, parse_dates=[\"date\"])\n",
    "scalability_df = pd.read_csv(SCALABILITY_FILE)\n",
    "adstock_df = pd.read_csv(ADSTOCK_FILE, index_col=\"regressor\")\n",
    "adstock_df.head(5)"
   ]
  },
  {
   "cell_type": "code",
   "execution_count": 5,
   "metadata": {},
   "outputs": [],
   "source": [
    "event_cols = [\n",
    "    \"new-years-day\",\n",
    "    \"martin-luther-king-jr-day\",\n",
    "    \"washingtons-birthday\",\n",
    "    \"memorial-day\",\n",
    "    \"independence-day\",\n",
    "    \"labor-day\",\n",
    "    \"columbus-day\",\n",
    "    \"veterans-day\",\n",
    "    \"thanksgiving\",\n",
    "    \"christmas-day\",\n",
    "    \"independence-day-observed\",\n",
    "    \"juneteenth-national-independence-day-observed\",\n",
    "    \"juneteenth-national-independence-day\",\n",
    "    \"christmas-day-observed\",\n",
    "    \"new-years-day-observed\",\n",
    "]"
   ]
  },
  {
   "cell_type": "markdown",
   "metadata": {},
   "source": [
    "### Fitting a MMM with adstock_df\n",
    "\n",
    "Once the user prepared a adstock_df, simply input it with the arg `adstock_df` and rest of the steps are similar to regular mmm fitting."
   ]
  },
  {
   "cell_type": "code",
   "execution_count": 6,
   "metadata": {},
   "outputs": [
    {
     "name": "stderr",
     "output_type": "stream",
     "text": [
      "2023-12-10 14:37:31 - karpiu-mmm - INFO - Initialize model\n",
      "2023-12-10 14:37:31 - karpiu-mmm - INFO - Set hyper-parameters.\n",
      "2023-12-10 14:37:31 - karpiu-mmm - INFO - Best params damped_factor set as 0.94900\n",
      "2023-12-10 14:37:31 - karpiu-mmm - INFO - Best params level_sm_input set as 0.00245\n",
      "2023-12-10 14:37:31 - karpiu-mmm - INFO - Fit final model.\n",
      "2023-12-10 14:37:31 - karpiu-mmm - INFO - Deriving saturation constants...\n",
      "2023-12-10 14:37:31 - karpiu-mmm - INFO - Derived saturation constants.\n",
      "2023-12-10 14:37:31 - karpiu-mmm - INFO - Build a default regression scheme\n",
      "2023-12-10 14:37:31 - orbit - INFO - Sampling (PyStan) with chains: 1, cores: 8, temperature: 1.000, warmups (per chain): 1000 and samples(per chain): 1000.\n"
     ]
    },
    {
     "data": {
      "application/vnd.jupyter.widget-view+json": {
       "model_id": "00c015afcfaa4f869be1f24ba27bb85e",
       "version_major": 2,
       "version_minor": 0
      },
      "text/plain": [
       "chain 1 |          | 00:00 Status"
      ]
     },
     "metadata": {},
     "output_type": "display_data"
    },
    {
     "name": "stdout",
     "output_type": "stream",
     "text": [
      "                                                                                \n"
     ]
    },
    {
     "name": "stderr",
     "output_type": "stream",
     "text": [
      "2023-12-10 14:40:08 - karpiu-mmm - INFO - Spend channels regression coefficients sum (0.5374089) is within common range (0, 0.8].\n"
     ]
    }
   ],
   "source": [
    "mmm = MMM(\n",
    "    kpi_col=\"sales\",\n",
    "    date_col=\"date\",\n",
    "    spend_cols=paid_channels,\n",
    "    scalability_df=scalability_df,\n",
    "    event_cols=event_cols,\n",
    "    seed=2022,\n",
    "    adstock_df=adstock_df,\n",
    "    seasonality=[7, 365.25],\n",
    "    fs_orders=[2, 3],\n",
    "    events_sigma_prior=0.3,\n",
    ")\n",
    "\n",
    "best_params = {\n",
    "    \"damped_factor\": 0.949,\n",
    "    \"level_sm_input\": 0.00245,\n",
    "}\n",
    "mmm.set_hyper_params(best_params)\n",
    "\n",
    "mmm.fit(df, num_sample=1000, num_warmup=1000, chains=1)"
   ]
  },
  {
   "cell_type": "code",
   "execution_count": 7,
   "metadata": {},
   "outputs": [],
   "source": [
    "import pickle\n",
    "\n",
    "with open(\"./resource/full/model.pkl\", \"wb\") as f:\n",
    "    pickle.dump(mmm, f, protocol=pickle.HIGHEST_PROTOCOL)"
   ]
  }
 ],
 "metadata": {
  "interpreter": {
   "hash": "e4c3ddbee9172d5d924d9319423b481e9709a3db66d191355ac8f24c8de7c580"
  },
  "kernelspec": {
   "display_name": "karpiu",
   "language": "python",
   "name": "karpiu"
  },
  "language_info": {
   "codemirror_mode": {
    "name": "ipython",
    "version": 3
   },
   "file_extension": ".py",
   "mimetype": "text/x-python",
   "name": "python",
   "nbconvert_exporter": "python",
   "pygments_lexer": "ipython3",
   "version": "3.9.0"
  }
 },
 "nbformat": 4,
 "nbformat_minor": 4
}
